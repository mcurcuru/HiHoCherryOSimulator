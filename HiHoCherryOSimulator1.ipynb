{
 "cells": [
  {
   "cell_type": "code",
   "execution_count": 1,
   "id": "99f6b529",
   "metadata": {
    "scrolled": true
   },
   "outputs": [
    {
     "name": "stdout",
     "output_type": "stream",
     "text": [
      "Welcome to Hi Ho! Cherry-O! (One Player)\n",
      "Cherries in your bucket: 0\n",
      "You spun a 3\n",
      "Cherries in your bucket: 3\n",
      "You spun a 4\n",
      "Cherries in your bucket: 7\n",
      "You spun a -10\n",
      "Cherries in your bucket: -3\n",
      "Cherries in your bucket: 0\n",
      "You spun a 4\n",
      "Cherries in your bucket: 4\n",
      "You spun a -2\n",
      "Cherries in your bucket: 2\n",
      "You spun a -2\n",
      "Cherries in your bucket: 0\n",
      "You spun a 4\n",
      "Cherries in your bucket: 4\n",
      "You spun a 2\n",
      "Cherries in your bucket: 6\n",
      "You spun a 4\n",
      "Cherries in your bucket: 10\n",
      "You won! Turn: 9\n"
     ]
    }
   ],
   "source": [
    "import random\n",
    "\n",
    "spinchoices=[1,2,3,4,-2,-2,-10]\n",
    "\n",
    "def spinnum():\n",
    "    return random.randint(0,6)\n",
    "def spinchoice():\n",
    "    i=spinnum()\n",
    "    spinchoice_int=0\n",
    "    spinchoice_int=spinchoices[i]\n",
    "    print(\"You spun a\",spinchoice_int)\n",
    "    return spinchoice_int\n",
    "\n",
    "cherrytree=10\n",
    "cherrybucket=0\n",
    "turns_lst=list()\n",
    "gameon=True\n",
    "turn=0\n",
    "print(\"Welcome to Hi Ho! Cherry-O! (One Player)\")\n",
    "while gameon is True:\n",
    "    print(\"Cherries in your bucket:\",cherrybucket)\n",
    "    if cherrybucket<0:\n",
    "        cherrybucket=0\n",
    "    elif cherrybucket>=10:\n",
    "        gameOn=False\n",
    "        break\n",
    "    else:\n",
    "        cherrybucket=cherrybucket+spinchoice()\n",
    "        turns_lst.append(cherrybucket)\n",
    "print(\"You won! Turn:\",len(turns_lst))"
   ]
  },
  {
   "cell_type": "code",
   "execution_count": null,
   "id": "2509000d",
   "metadata": {},
   "outputs": [],
   "source": []
  },
  {
   "cell_type": "code",
   "execution_count": null,
   "id": "d989fca9",
   "metadata": {},
   "outputs": [],
   "source": []
  }
 ],
 "metadata": {
  "kernelspec": {
   "display_name": "Python 3 (ipykernel)",
   "language": "python",
   "name": "python3"
  },
  "language_info": {
   "codemirror_mode": {
    "name": "ipython",
    "version": 3
   },
   "file_extension": ".py",
   "mimetype": "text/x-python",
   "name": "python",
   "nbconvert_exporter": "python",
   "pygments_lexer": "ipython3",
   "version": "3.9.12"
  }
 },
 "nbformat": 4,
 "nbformat_minor": 5
}
